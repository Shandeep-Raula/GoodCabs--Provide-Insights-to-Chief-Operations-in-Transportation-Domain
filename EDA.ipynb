{
 "cells": [
  {
   "cell_type": "markdown",
   "id": "b817e6df-4887-4134-a062-50670b968d65",
   "metadata": {},
   "source": [
    "## **Provide Insights to Chief Operations in Transportation Domain**\n",
    "\n",
    "- **Domain** :- Transportation & Mobilty\n",
    "- **Fuctions** :- Operatins"
   ]
  },
  {
   "cell_type": "raw",
   "id": "822b7e67-2ff4-4947-b3ec-38e35330bd14",
   "metadata": {},
   "source": []
  },
  {
   "cell_type": "markdown",
   "id": "330a97ff-8d7b-479c-95b9-cbcddb47e6bd",
   "metadata": {},
   "source": [
    "#### **Problem Statements** \n",
    "\n",
    "\n",
    "\n",
    "Goodcabs, a cab service company established two years ago, has gained a strong foothold in the Indian market by focusing on tier-2 cities. Unlike other cab service providers, Goodcabs is committed to supporting local drivers, helping them make a sustainable living in their hometowns while ensuring excellent service to passengers. With operations in ten tier-2 cities across India, Goodcabs has set ambitious performance targets for 2024 to drive growth and improve passenger satisfaction. "
   ]
  },
  {
   "cell_type": "raw",
   "id": "24962b01-510c-4360-8e8a-1db7b5c2b93e",
   "metadata": {},
   "source": []
  },
  {
   "cell_type": "markdown",
   "id": "56bb54f6-eb2a-46aa-9b62-f3733b55ddc5",
   "metadata": {},
   "source": [
    "#### **Project Goals**\n",
    "\n",
    "The analysis is centered around growing trip volumes, passenger satisfaction, and repeat bookings for Goodcabs. Through the determination of important trends and operational optimization, overall performance is aimed to be enhanced. These findings will assist Goodcabs in reaching its customer retention and growth goals."
   ]
  },
  {
   "cell_type": "raw",
   "id": "e1931b6b-2a0c-4d83-bd49-25dc5413dbe4",
   "metadata": {},
   "source": []
  },
  {
   "cell_type": "markdown",
   "id": "e438e8e3-7566-4492-b91a-8e18e7ac1a65",
   "metadata": {},
   "source": [
    "#### **Data Overview**\n",
    "\n",
    "\n",
    "![ED Diagram](ERD.png)"
   ]
  },
  {
   "cell_type": "raw",
   "id": "98d28ebe-5e38-48f9-9977-38fd4347eb73",
   "metadata": {},
   "source": []
  },
  {
   "cell_type": "markdown",
   "id": "4c458324-ad65-46ac-b3eb-66d12768bfda",
   "metadata": {},
   "source": [
    "#### Import Necessary Library "
   ]
  },
  {
   "cell_type": "code",
   "execution_count": 9,
   "id": "02406876-3760-434e-a978-83113acaa50e",
   "metadata": {},
   "outputs": [],
   "source": [
    "import numpy as np\n",
    "import pandas as pd\n",
    "import matplotlib.pyplot as plt\n",
    "import seaborn as sns\n",
    "import warnings\n",
    "warnings.filterwarnings(\"ignore\")"
   ]
  },
  {
   "cell_type": "raw",
   "id": "cdafe27f-ce13-4fe5-bef8-7a9a2e28baa8",
   "metadata": {},
   "source": []
  },
  {
   "cell_type": "code",
   "execution_count": null,
   "id": "08775ec9-389f-4054-af4c-24c9900ef589",
   "metadata": {},
   "outputs": [],
   "source": [
    "city_target = pd.read_csv('city_target_passenger_rating.csv')"
   ]
  },
  {
   "cell_type": "code",
   "execution_count": 4,
   "id": "4009921c-3e58-4183-8198-9e72e675dce1",
   "metadata": {},
   "outputs": [],
   "source": [
    "dim_city = pd.read_csv('dim_city.csv')"
   ]
  },
  {
   "cell_type": "code",
   "execution_count": 5,
   "id": "aa1baa57-ba80-4393-99c9-359f8152b88f",
   "metadata": {},
   "outputs": [],
   "source": [
    "dim_date = pd.read_csv('dim_date.csv')\n",
    "dim_date['date'] = pd.to_datetime(dim_date['date'])\n",
    "dim_date['start_of_month'] = pd.to_datetime(dim_date['start_of_month'])"
   ]
  },
  {
   "cell_type": "code",
   "execution_count": 6,
   "id": "da305ea8-0996-48c3-baaf-512f54b69cf9",
   "metadata": {},
   "outputs": [],
   "source": [
    "dim_repeat_trip = pd.read_csv('dim_repeat_trip_distribution.csv')\n",
    "dim_repeat_trip['month'] = pd.to_datetime(dim_repeat_trip['month'])"
   ]
  },
  {
   "cell_type": "code",
   "execution_count": 7,
   "id": "83795d19-1b2a-4fb5-8435-6f26bb5f3f75",
   "metadata": {},
   "outputs": [],
   "source": [
    "fact_passenger = pd.read_csv('fact_passenger_summary.csv')\n",
    "fact_passenger['month'] = pd.to_datetime(fact_passenger['month'])"
   ]
  },
  {
   "cell_type": "code",
   "execution_count": 8,
   "id": "e48419fd-8d06-4ddb-805c-7c38af154992",
   "metadata": {},
   "outputs": [
    {
     "name": "stderr",
     "output_type": "stream",
     "text": [
      "C:\\Users\\HP\\AppData\\Local\\Temp\\ipykernel_12016\\4042068057.py:2: UserWarning: Parsing dates in %d-%m-%Y format when dayfirst=False (the default) was specified. Pass `dayfirst=True` or specify a format to silence this warning.\n",
      "  fact_trips['date'] = pd.to_datetime(fact_trips['date'])\n"
     ]
    }
   ],
   "source": [
    "fact_trips = pd.read_csv('fact_trips.csv')\n",
    "fact_trips['date'] = pd.to_datetime(fact_trips['date'])"
   ]
  },
  {
   "cell_type": "code",
   "execution_count": 9,
   "id": "babff8c9-7ecc-4e51-8a59-654d523cdc84",
   "metadata": {},
   "outputs": [],
   "source": [
    "monthly_target = pd.read_csv('monthly_target_new_passengers.csv')\n",
    "monthly_target['month'] = pd.to_datetime(monthly_target['month'])"
   ]
  },
  {
   "cell_type": "code",
   "execution_count": 10,
   "id": "632add45-8230-483a-ade2-7975bba1d3ee",
   "metadata": {},
   "outputs": [],
   "source": [
    "monthly_target_trips = pd.read_csv('monthly_target_trips.csv')\n",
    "monthly_target_trips['month'] = pd.to_datetime(monthly_target_trips['month'])"
   ]
  },
  {
   "cell_type": "code",
   "execution_count": 12,
   "id": "997658ad-7547-4b28-a427-5ba0aee95d14",
   "metadata": {},
   "outputs": [
    {
     "name": "stdout",
     "output_type": "stream",
     "text": [
      "<class 'pandas.core.frame.DataFrame'>\n",
      "RangeIndex: 60 entries, 0 to 59\n",
      "Data columns (total 3 columns):\n",
      " #   Column              Non-Null Count  Dtype         \n",
      "---  ------              --------------  -----         \n",
      " 0   month               60 non-null     datetime64[ns]\n",
      " 1   city_id             60 non-null     object        \n",
      " 2   total_target_trips  60 non-null     int64         \n",
      "dtypes: datetime64[ns](1), int64(1), object(1)\n",
      "memory usage: 1.5+ KB\n"
     ]
    }
   ],
   "source": [
    "monthly_target_trips.info()"
   ]
  },
  {
   "cell_type": "code",
   "execution_count": 13,
   "id": "48484317-e672-4da1-b1ea-21be8effd5f1",
   "metadata": {},
   "outputs": [
    {
     "data": {
      "text/html": [
       "<div>\n",
       "<style scoped>\n",
       "    .dataframe tbody tr th:only-of-type {\n",
       "        vertical-align: middle;\n",
       "    }\n",
       "\n",
       "    .dataframe tbody tr th {\n",
       "        vertical-align: top;\n",
       "    }\n",
       "\n",
       "    .dataframe thead th {\n",
       "        text-align: right;\n",
       "    }\n",
       "</style>\n",
       "<table border=\"1\" class=\"dataframe\">\n",
       "  <thead>\n",
       "    <tr style=\"text-align: right;\">\n",
       "      <th></th>\n",
       "      <th>trip_id</th>\n",
       "      <th>date</th>\n",
       "      <th>city_id</th>\n",
       "      <th>passenger_type</th>\n",
       "      <th>distance_travelled_km</th>\n",
       "      <th>fare_amount</th>\n",
       "      <th>passenger_rating</th>\n",
       "      <th>driver_rating</th>\n",
       "    </tr>\n",
       "  </thead>\n",
       "  <tbody>\n",
       "    <tr>\n",
       "      <th>0</th>\n",
       "      <td>TRPLUC240113d55de2fb</td>\n",
       "      <td>2024-01-13</td>\n",
       "      <td>UP01</td>\n",
       "      <td>repeated</td>\n",
       "      <td>11</td>\n",
       "      <td>158</td>\n",
       "      <td>5</td>\n",
       "      <td>5</td>\n",
       "    </tr>\n",
       "    <tr>\n",
       "      <th>1</th>\n",
       "      <td>TRPVAD240129a3b6dba8</td>\n",
       "      <td>2024-01-29</td>\n",
       "      <td>GJ02</td>\n",
       "      <td>repeated</td>\n",
       "      <td>7</td>\n",
       "      <td>74</td>\n",
       "      <td>5</td>\n",
       "      <td>5</td>\n",
       "    </tr>\n",
       "    <tr>\n",
       "      <th>2</th>\n",
       "      <td>TRPCOI240107a42430fb</td>\n",
       "      <td>2024-01-07</td>\n",
       "      <td>TN01</td>\n",
       "      <td>repeated</td>\n",
       "      <td>11</td>\n",
       "      <td>155</td>\n",
       "      <td>8</td>\n",
       "      <td>8</td>\n",
       "    </tr>\n",
       "    <tr>\n",
       "      <th>3</th>\n",
       "      <td>TRPKOC240325d7601389</td>\n",
       "      <td>2024-03-25</td>\n",
       "      <td>KL01</td>\n",
       "      <td>repeated</td>\n",
       "      <td>36</td>\n",
       "      <td>427</td>\n",
       "      <td>9</td>\n",
       "      <td>10</td>\n",
       "    </tr>\n",
       "    <tr>\n",
       "      <th>4</th>\n",
       "      <td>TRPVIS2406027be97166</td>\n",
       "      <td>2024-06-02</td>\n",
       "      <td>AP01</td>\n",
       "      <td>new</td>\n",
       "      <td>17</td>\n",
       "      <td>265</td>\n",
       "      <td>8</td>\n",
       "      <td>8</td>\n",
       "    </tr>\n",
       "    <tr>\n",
       "      <th>...</th>\n",
       "      <td>...</td>\n",
       "      <td>...</td>\n",
       "      <td>...</td>\n",
       "      <td>...</td>\n",
       "      <td>...</td>\n",
       "      <td>...</td>\n",
       "      <td>...</td>\n",
       "      <td>...</td>\n",
       "    </tr>\n",
       "    <tr>\n",
       "      <th>425898</th>\n",
       "      <td>TRPLUC2403180b02b4d0</td>\n",
       "      <td>2024-03-18</td>\n",
       "      <td>UP01</td>\n",
       "      <td>repeated</td>\n",
       "      <td>12</td>\n",
       "      <td>134</td>\n",
       "      <td>5</td>\n",
       "      <td>5</td>\n",
       "    </tr>\n",
       "    <tr>\n",
       "      <th>425899</th>\n",
       "      <td>TRPVAD2401032679e669</td>\n",
       "      <td>2024-01-03</td>\n",
       "      <td>GJ02</td>\n",
       "      <td>repeated</td>\n",
       "      <td>12</td>\n",
       "      <td>114</td>\n",
       "      <td>7</td>\n",
       "      <td>5</td>\n",
       "    </tr>\n",
       "    <tr>\n",
       "      <th>425900</th>\n",
       "      <td>TRPJAI24022578e10280</td>\n",
       "      <td>2024-02-25</td>\n",
       "      <td>RJ01</td>\n",
       "      <td>repeated</td>\n",
       "      <td>26</td>\n",
       "      <td>479</td>\n",
       "      <td>7</td>\n",
       "      <td>10</td>\n",
       "    </tr>\n",
       "    <tr>\n",
       "      <th>425901</th>\n",
       "      <td>TRPJAI240401e297ad20</td>\n",
       "      <td>2024-04-01</td>\n",
       "      <td>RJ01</td>\n",
       "      <td>repeated</td>\n",
       "      <td>27</td>\n",
       "      <td>361</td>\n",
       "      <td>7</td>\n",
       "      <td>10</td>\n",
       "    </tr>\n",
       "    <tr>\n",
       "      <th>425902</th>\n",
       "      <td>TRPJAI24021056f0e951</td>\n",
       "      <td>2024-02-10</td>\n",
       "      <td>RJ01</td>\n",
       "      <td>new</td>\n",
       "      <td>37</td>\n",
       "      <td>666</td>\n",
       "      <td>9</td>\n",
       "      <td>10</td>\n",
       "    </tr>\n",
       "  </tbody>\n",
       "</table>\n",
       "<p>425903 rows × 8 columns</p>\n",
       "</div>"
      ],
      "text/plain": [
       "                     trip_id       date city_id passenger_type  \\\n",
       "0       TRPLUC240113d55de2fb 2024-01-13    UP01       repeated   \n",
       "1       TRPVAD240129a3b6dba8 2024-01-29    GJ02       repeated   \n",
       "2       TRPCOI240107a42430fb 2024-01-07    TN01       repeated   \n",
       "3       TRPKOC240325d7601389 2024-03-25    KL01       repeated   \n",
       "4       TRPVIS2406027be97166 2024-06-02    AP01            new   \n",
       "...                      ...        ...     ...            ...   \n",
       "425898  TRPLUC2403180b02b4d0 2024-03-18    UP01       repeated   \n",
       "425899  TRPVAD2401032679e669 2024-01-03    GJ02       repeated   \n",
       "425900  TRPJAI24022578e10280 2024-02-25    RJ01       repeated   \n",
       "425901  TRPJAI240401e297ad20 2024-04-01    RJ01       repeated   \n",
       "425902  TRPJAI24021056f0e951 2024-02-10    RJ01            new   \n",
       "\n",
       "        distance_travelled_km  fare_amount  passenger_rating  driver_rating  \n",
       "0                          11          158                 5              5  \n",
       "1                           7           74                 5              5  \n",
       "2                          11          155                 8              8  \n",
       "3                          36          427                 9             10  \n",
       "4                          17          265                 8              8  \n",
       "...                       ...          ...               ...            ...  \n",
       "425898                     12          134                 5              5  \n",
       "425899                     12          114                 7              5  \n",
       "425900                     26          479                 7             10  \n",
       "425901                     27          361                 7             10  \n",
       "425902                     37          666                 9             10  \n",
       "\n",
       "[425903 rows x 8 columns]"
      ]
     },
     "execution_count": 13,
     "metadata": {},
     "output_type": "execute_result"
    }
   ],
   "source": [
    "fact_trips"
   ]
  },
  {
   "cell_type": "code",
   "execution_count": null,
   "id": "0041f21e-56bd-41e5-8c8b-5114adfb48a9",
   "metadata": {},
   "outputs": [],
   "source": []
  }
 ],
 "metadata": {
  "kernelspec": {
   "display_name": "Python 3 (ipykernel)",
   "language": "python",
   "name": "python3"
  },
  "language_info": {
   "codemirror_mode": {
    "name": "ipython",
    "version": 3
   },
   "file_extension": ".py",
   "mimetype": "text/x-python",
   "name": "python",
   "nbconvert_exporter": "python",
   "pygments_lexer": "ipython3",
   "version": "3.12.4"
  }
 },
 "nbformat": 4,
 "nbformat_minor": 5
}
